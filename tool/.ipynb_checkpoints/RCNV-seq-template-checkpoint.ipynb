{
 "cells": [
  {
   "cell_type": "markdown",
   "id": "covered-croatia",
   "metadata": {},
   "source": [
    "# PBGL CNV-seq Analysis - Template"
   ]
  },
  {
   "cell_type": "markdown",
   "id": "discrete-strength",
   "metadata": {},
   "source": [
    "This jupyter notebook, along original and helper functions, implements an R-only version of\n",
    "the work flow from https://github.com/hliang/cnv-seq. It uses\n",
    "GenomicRanges utilities to perform read counts across bins, and the\n",
    "`cnv` package available at the URL above for additional\n",
    "analysis. No intermediate files are generates."
   ]
  },
  {
   "cell_type": "markdown",
   "id": "apparent-shooting",
   "metadata": {},
   "source": [
    "This R script has been converted into a jupyter notebook from Bioconductor's RNCV_seq.R code from their copy-number-analysis repository https://github.com/Bioconductor/copy-number-analysis/wiki/CNV-seq."
   ]
  },
  {
   "cell_type": "markdown",
   "id": "twelve-aluminum",
   "metadata": {},
   "source": [
    "## Installing Required Libraries (mandatory for the first time only)\n",
    "\n",
    "The installation needs to be run the first time the tool is used. Once the installation has run, there is no need for re-installation as the necessary packages will be already installed in the conda/mamba virtual environment and loading them can easily be done under the **Loading Required Libraries** section. "
   ]
  },
  {
   "cell_type": "markdown",
   "id": "forbidden-reservation",
   "metadata": {},
   "source": [
    "### R Libraries for CNV-seq "
   ]
  },
  {
   "cell_type": "code",
   "execution_count": null,
   "id": "plain-conditioning",
   "metadata": {},
   "outputs": [],
   "source": [
    "# install necessary libraries using R functions\n",
    "if (!requireNamespace(\"BiocManager\", quietly = TRUE))\n",
    "    install.packages(\"BiocManager\")\n",
    "\n",
    "BiocManager::install(c(\"GenomicAlignments\", \"GenomeInfoDb\"))\n",
    "install.packages(\"configr\")\n",
    "install.packages(\"ggplot2\")"
   ]
  },
  {
   "cell_type": "markdown",
   "id": "alleged-classic",
   "metadata": {},
   "source": [
    "## Loading Required Libraries"
   ]
  },
  {
   "cell_type": "code",
   "execution_count": null,
   "id": "separate-jerusalem",
   "metadata": {},
   "outputs": [],
   "source": [
    "# load necessary libraries\n",
    "library(GenomicAlignments)\n",
    "library(ggplot2)\n",
    "library(configr)\n",
    "\n",
    "# specify source R script with helper functions\n",
    "source(\"helper-functions/RCNV_seq-helper.R\")\n",
    "source(\"helper-functions/cnvHLiang.R\")"
   ]
  },
  {
   "cell_type": "markdown",
   "id": "loose-ferry",
   "metadata": {},
   "source": [
    "## <span style=\"color:red\">User Input (MANDATORY)</span>\n",
    "\n",
    "---\n",
    "<span style=\"color:red\">**NOTE: Config File**</span>\n",
    "\n",
    "     Run the cell below once the configuration .yml file has been edited accordingly.\n",
    "     It can be named however the user wants, but the name must match. The configuration\n",
    "     file can be found in the config/ directory.\n",
    "\n",
    "---"
   ]
  },
  {
   "cell_type": "code",
   "execution_count": null,
   "id": "transparent-prairie",
   "metadata": {},
   "outputs": [],
   "source": [
    "configPath <- \"config/\""
   ]
  },
  {
   "cell_type": "code",
   "execution_count": null,
   "id": "24c62843",
   "metadata": {},
   "outputs": [],
   "source": [
    "config <- read.config(configPath)"
   ]
  },
  {
   "cell_type": "markdown",
   "id": "wired-knowing",
   "metadata": {},
   "source": [
    "## CNV Calculations\n",
    "---\n",
    "<span style=\"color:red\">**NOTE: Calculating CNVs**</span>\n",
    "\n",
    "     This function calculates both the hits and CNVs and then stores the \n",
    "     calculations in tabulated files in the tab-files/ directory.\n",
    "     The following parameters must be populated:\n",
    "---\n",
    "\n",
    "- `config` - configuration file previously defined"
   ]
  },
  {
   "cell_type": "code",
   "execution_count": null,
   "id": "4b43435e",
   "metadata": {},
   "outputs": [],
   "source": [
    "cnvCalculate(config)"
   ]
  },
  {
   "cell_type": "markdown",
   "id": "e3d8f360",
   "metadata": {},
   "source": [
    "## Plotting"
   ]
  },
  {
   "cell_type": "markdown",
   "id": "accomplished-mattress",
   "metadata": {},
   "source": [
    "---\n",
    "<span style=\"color:red\">**NOTE: Plotting CNVs**</span>\n",
    "\n",
    "     This function creates plots two types of images:\n",
    "     \n",
    "     1. all chromosomes present in a bam file in one image\n",
    "     2. one chromosome per image\n",
    "     \n",
    "     The functions saves the image outputs in the images/ directory.\n",
    "     It is recommended to inspect the CNV-plots with default y-limits and then modify.\n",
    "     The following parameters must be populated:\n",
    "---\n",
    "\n",
    "- `config` - configuration file previously defined\n",
    "- `imgType` - image extention to use; available options are: `png`, `jpeg`, `svg`, and `pdf`; default to `png`\n",
    "- `yMin` - y-axis bottom limit; default to `-5`\n",
    "- `yMax` - y-axis upper limit; default to `5`"
   ]
  },
  {
   "cell_type": "code",
   "execution_count": null,
   "id": "legendary-sending",
   "metadata": {},
   "outputs": [],
   "source": [
    "cnvPlot(config, imgType=\"\", yMin= , yMax= )"
   ]
  },
  {
   "cell_type": "markdown",
   "id": "wound-matrix",
   "metadata": {},
   "source": [
    "## Plotting Specific Window of One Chromosome"
   ]
  },
  {
   "cell_type": "markdown",
   "id": "f51e15c7",
   "metadata": {},
   "source": [
    "---\n",
    "<span style=\"color:red\">**NOTE: Hits Tabulated File**</span>\n",
    "\n",
    "     Provide path and name of tabulated file containing all hits found in the\n",
    "     tab-files/ directory.\n",
    "\n",
    "---"
   ]
  },
  {
   "cell_type": "code",
   "execution_count": null,
   "id": "57303f3d",
   "metadata": {},
   "outputs": [],
   "source": [
    "tabFile <- \"tab-files/\""
   ]
  },
  {
   "cell_type": "markdown",
   "id": "7717ef04",
   "metadata": {},
   "source": [
    "---\n",
    "<span style=\"color:red\">**NOTE: Plotting a Chromosome Window**</span>\n",
    "\n",
    "     The cell below plots a specific window of a specific chromosome. \n",
    "     The following parameters must be populated:\n",
    "\n",
    "---\n",
    "\n",
    "- `config` - configuration file previously defined\n",
    "- `tabFile` - tabulated file containing all hits\n",
    "- `chromosome` - chromosome name to focus on; default to `NA`\n",
    "- `start` - start of window in bp; both scientific notation is accepted: `100000` or `10e4`; default to `NA`\n",
    "- `end` - end of window in bp; the same applies as in `from` parameter; default to `NA`\n",
    "- `yMin` - y-axis bottom limit; default to `-5`\n",
    "- `yMax` - y-axis upper limit; default to `5`\n",
    "- `imgType` - image extention to use; available options are: `png`, `jpeg`, `svg`, and `pdf`; default to `png`"
   ]
  },
  {
   "cell_type": "code",
   "execution_count": null,
   "id": "international-chamber",
   "metadata": {},
   "outputs": [],
   "source": [
    "cnvPlotZoom(config, tabFile, chromosome=\"\", start= , end= , yMin= , yMax= , imgType=\"\")"
   ]
  },
  {
   "cell_type": "code",
   "execution_count": null,
   "id": "dba8f8c4",
   "metadata": {},
   "outputs": [],
   "source": []
  }
 ],
 "metadata": {
  "kernelspec": {
   "display_name": "R",
   "language": "R",
   "name": "ir"
  },
  "language_info": {
   "codemirror_mode": "r",
   "file_extension": ".r",
   "mimetype": "text/x-r-source",
   "name": "R",
   "pygments_lexer": "r",
   "version": "3.6.3"
  }
 },
 "nbformat": 4,
 "nbformat_minor": 5
}
